{
  "nbformat": 4,
  "nbformat_minor": 0,
  "metadata": {
    "colab": {
      "provenance": [],
      "authorship_tag": "ABX9TyP+QeipurQsNMLyyjfYZky7",
      "include_colab_link": true
    },
    "kernelspec": {
      "name": "python3",
      "display_name": "Python 3"
    },
    "language_info": {
      "name": "python"
    }
  },
  "cells": [
    {
      "cell_type": "markdown",
      "metadata": {
        "id": "view-in-github",
        "colab_type": "text"
      },
      "source": [
        "<a href=\"https://colab.research.google.com/github/vincelemke99/Bachelor-Thesis/blob/main/lead_predication_final.ipynb\" target=\"_parent\"><img src=\"https://colab.research.google.com/assets/colab-badge.svg\" alt=\"Open In Colab\"/></a>"
      ]
    },
    {
      "cell_type": "code",
      "execution_count": null,
      "metadata": {
        "id": "VMJ5cPLBVdfO"
      },
      "outputs": [],
      "source": [
        "!pip install mlens"
      ]
    },
    {
      "cell_type": "code",
      "source": [
        "# Import necessary libraries\n",
        "import pandas as pd\n",
        "import numpy as np\n",
        "import seaborn as sns\n",
        "from matplotlib import pyplot as plt\n",
        "import plotly.express as px\n",
        "import plotly.graph_objects as go\n",
        "import plotly.figure_factory as ff\n",
        "\n",
        "# Import machine learning libraries\n",
        "import lightgbm as lgb\n",
        "import xgboost as xgb\n",
        "from sklearn.ensemble import RandomForestClassifier, GradientBoostingClassifier\n",
        "from sklearn.tree import DecisionTreeClassifier\n",
        "from sklearn.svm import SVC\n",
        "from sklearn.pipeline import Pipeline\n",
        "from sklearn.preprocessing import StandardScaler\n",
        "from sklearn.metrics import (\n",
        "    accuracy_score,\n",
        "    precision_score,\n",
        "    recall_score,\n",
        "    f1_score,\n",
        "    roc_auc_score,\n",
        "    roc_curve,\n",
        "    confusion_matrix\n",
        ")\n",
        "from sklearn.model_selection import train_test_split, RandomizedSearchCV, cross_val_score\n",
        "from sklearn.impute import SimpleImputer\n"
      ],
      "metadata": {
        "id": "3T_tHqDzWZbe"
      },
      "execution_count": null,
      "outputs": []
    },
    {
      "cell_type": "code",
      "source": [
        "from google.colab import auth\n",
        "auth.authenticate_user()\n",
        "print(\"Authenticated\")"
      ],
      "metadata": {
        "id": "XT7VAX41WnIm"
      },
      "execution_count": null,
      "outputs": []
    },
    {
      "cell_type": "code",
      "source": [
        "PROJECT_ID = 'prj-snd-ew3-vschmitt'"
      ],
      "metadata": {
        "id": "vGboKyEQWr-r"
      },
      "execution_count": null,
      "outputs": []
    },
    {
      "cell_type": "code",
      "source": [
        "from google.cloud import bigquery\n",
        "client = bigquery.Client(project=PROJECT_ID)"
      ],
      "metadata": {
        "id": "-Nsljx4HWxGd"
      },
      "execution_count": null,
      "outputs": []
    },
    {
      "cell_type": "code",
      "source": [
        "BQ_PROJECT = PROJECT_ID\n",
        "BQ_DATASET = 'lead_prediction'\n",
        "BQ_TABLE = 'trainings_data_converted'"
      ],
      "metadata": {
        "id": "1BfCcMo_Wya1"
      },
      "execution_count": null,
      "outputs": []
    },
    {
      "cell_type": "code",
      "source": [
        "# SQL query to select data\n",
        "query = f\"\"\"\n",
        "SELECT *\n",
        "FROM `{BQ_PROJECT}.{BQ_DATASET}.{BQ_TABLE}`\n",
        "\"\"\"\n",
        "\n",
        "try:\n",
        "    # Execute the query and convert the result to a pandas DataFrame\n",
        "    df = client.query(query=query).to_dataframe()\n",
        "    print(\"Query executed successfully and DataFrame is ready.\")\n",
        "except Exception as e:\n",
        "    print(f\"An error occurred: {e}\")"
      ],
      "metadata": {
        "id": "PVoL7y-jW0iE"
      },
      "execution_count": null,
      "outputs": []
    },
    {
      "cell_type": "code",
      "source": [
        "df.shape"
      ],
      "metadata": {
        "id": "iLbjT2UIXEKJ"
      },
      "execution_count": null,
      "outputs": []
    },
    {
      "cell_type": "code",
      "source": [
        "# Identify duplicate lead_ids\n",
        "duplicate_lead_ids = df[df.duplicated('lead_id', keep=False)]['lead_id'].unique()\n",
        "\n",
        "# Filter rows to drop\n",
        "rows_to_drop = df[(df['lead_id'].isin(duplicate_lead_ids)) & (df['is_converted'] == False)]\n",
        "\n",
        "# Drop rows\n",
        "# Keep only unique lead_ids (this is optional if the above steps suffice)\n",
        "df = df.drop_duplicates(subset='lead_id')"
      ],
      "metadata": {
        "id": "5GWxaZ0-XJuo"
      },
      "execution_count": null,
      "outputs": []
    },
    {
      "cell_type": "code",
      "source": [
        "df.shape"
      ],
      "metadata": {
        "id": "bsJLnD-nXOhb"
      },
      "execution_count": null,
      "outputs": []
    },
    {
      "cell_type": "code",
      "source": [
        "df.head()"
      ],
      "metadata": {
        "id": "yAxNXVBKXCjg"
      },
      "execution_count": null,
      "outputs": []
    },
    {
      "cell_type": "code",
      "source": [
        "df.drop(['lead_id',], axis=\"columns\", inplace=True)"
      ],
      "metadata": {
        "id": "avgvLPSaXS5R"
      },
      "execution_count": null,
      "outputs": []
    },
    {
      "cell_type": "code",
      "source": [
        "df.rename(columns={'name': 'Name_Describe','geschlecht' : 'Gender', 'produkt_zeitraum_c' : 'Study_Model',\n",
        "       'produkt_art_der_ausbildung_c' : 'Type_of_Study_Program', 'produkt_standort' : 'Study_Location',\n",
        "       'produkt_fachbereich' : 'Faculty', 'produkt_name': 'Study_Program','product_interest_type' : 'Conversion_Type',\n",
        "       'lead_quelle_detail' : 'Lead_Source_Detail', 'domain': 'Domain', 'has_phone' : 'has_Phone', 'lead_source' : 'Lead_Source', 'Pagepath', 'time_OnSite' : 'Time_on_Site' , 'bounce' : 'Bounce' },inplace=True)\n",
        "df.head()"
      ],
      "metadata": {
        "id": "znfJYTaoXTuY"
      },
      "execution_count": null,
      "outputs": []
    },
    {
      "cell_type": "code",
      "source": [
        "df.isna().sum().to_frame(name='Missing Values').sort_values('Missing Values', ascending=False)"
      ],
      "metadata": {
        "id": "ZqUlCymKbAY1"
      },
      "execution_count": null,
      "outputs": []
    },
    {
      "cell_type": "code",
      "source": [
        "# Calculate the percentage of missing values for each column\n",
        "percentage_missing = df.isnull().sum() * 100 / len(df)\n",
        "# Create a DataFrame to display the missing values\n",
        "missing_values_df = percentage_missing.to_frame(name='Missing Values').sort_values('Missing Values', ascending=False)\n",
        "# Display the DataFrame\n",
        "missing_values_df"
      ],
      "metadata": {
        "id": "RLW5UUU_bMCX"
      },
      "execution_count": null,
      "outputs": []
    },
    {
      "cell_type": "code",
      "source": [
        "df['Study_Program'].value_counts()"
      ],
      "metadata": {
        "id": "MVtojt_BpJOR"
      },
      "execution_count": null,
      "outputs": []
    },
    {
      "cell_type": "code",
      "source": [
        "df['Study_Program'].value_counts()"
      ],
      "metadata": {
        "id": "WadNFwBFemom"
      },
      "execution_count": null,
      "outputs": []
    },
    {
      "cell_type": "code",
      "source": [
        "df['Semester'] = df['Semester'].fillna('Wintersemester')\n",
        "df['Study_Program'] = df['Study_Program'].fillna('Psychologie, B.Sc.')\n",
        "df['Lead_Source_Detail'] = df['Lead_Source_Detail'].fillna('Google Ads')\n",
        "df['Domain'] = df['Domain'].fillna('gmail.com')\n",
        "df['Gender'] = df['gender'].fillna('weiblich')\n",
        "df['Conversion_Type'] = df['Conversion_Type'].fillna('Infomaterial')\n",
        "df['Pagepath'] = df['Pagepath'].fillna('https://www.hs-fresenius.de/infomaterial/')\n",
        "df['Operating_System'] = df['Operating_System'].fillna('Windows 10')\n",
        "df['Browser'] = df['Browser'].fillna('Safari')\n",
        "df['Language'] = df['Language'].fillna('de-de')\n",
        "df['Device_Category'] = df['Device_Category'].fillna('mobile')\n",
        "df['Bounce'] = df['Bounce'].fillna('true')\n",
        "df['ManualAdContent'] = df['ManualAdContent'].fillna('ads')\n",
        "df['ManualTerm'] = df['ManualTerm'].fillna('responsive search ads')"
      ],
      "metadata": {
        "id": "G_mxxw5gfJL1"
      },
      "execution_count": null,
      "outputs": []
    },
    {
      "cell_type": "code",
      "source": [
        "df.describe()"
      ],
      "metadata": {
        "id": "ca5y8pTNisll"
      },
      "execution_count": null,
      "outputs": []
    },
    {
      "cell_type": "code",
      "source": [
        "df['Time_on_Site'] = df['Time_on_Site'].fillna(40.0)"
      ],
      "metadata": {
        "id": "tsIIKTj6p33o"
      },
      "execution_count": null,
      "outputs": []
    },
    {
      "cell_type": "code",
      "source": [
        "df.isna().sum().to_frame(name='Missing Values').sort_values('Missing Values', ascending=False)"
      ],
      "metadata": {
        "id": "UrcvrFyWiQ81"
      },
      "execution_count": null,
      "outputs": []
    },
    {
      "cell_type": "code",
      "source": [
        "plt.figure(figsize=(5,5))\n",
        "sns.countplot(df['is_converted']);\n",
        "plt.title('No of Unsuccessful Leads vs Succesful Converted Leads', color='blue')\n",
        "plt.xthicks(np.arange(2),('Unscuccesful','Successful'))"
      ],
      "metadata": {
        "id": "rTdhXBaTiNK3"
      },
      "execution_count": null,
      "outputs": []
    },
    {
      "cell_type": "code",
      "source": [
        "def plot_frequency_and_percentage(feature, leads_df, category_df, another_row=False, height=8, ylabels=[]):\n",
        "    if another_row:\n",
        "        fig, (ax1, ax2) = plt.subplots(nrows=2, ncols=1, figsize=(10, height * 2))\n",
        "    else:\n",
        "        fig, (ax1, ax2) = plt.subplots(ncols=2, figsize=(15, 6))\n",
        "    fig.subplots_adjust(hspace=0.3)\n",
        "    fig.subplots_adjust(wspace=0.3)\n",
        "\n",
        "    ## plot the frequency plot for each category in the required column\n",
        "    ax1.set_title('Frequency Plot of {0}'.format(feature), color='blue')\n",
        "    ax1.set_ylabel(feature)\n",
        "    ax1.set_xlabel('count')\n",
        "    sns.countplot(y=feature, data=category_df, order=category_df[feature].value_counts().index, ax=ax1, color='green')\n",
        "    if len(ylabels) > 0:\n",
        "        ax1.set_yticklabels(ylabels)\n",
        "\n",
        "    ## plot the value percentage in each sub-category wrt the label\n",
        "    ax2.set_title('Lead Converted label %', color='blue')\n",
        "    ax2.set_ylabel(feature)\n",
        "    ax2.set_xlabel('percentage')\n",
        "    leads_df.iloc[1].sort_values().plot(kind='barh', ax=ax2, color='orange')\n",
        "    if len(ylabels) > 0:\n",
        "        ax2.set_yticklabels(ylabels)\n"
      ],
      "metadata": {
        "id": "JO-qD1wHsVFM"
      },
      "execution_count": null,
      "outputs": []
    },
    {
      "cell_type": "code",
      "source": [
        "df['Lead_Source'].value_counts()"
      ],
      "metadata": {
        "id": "uSxzV5gstBFf"
      },
      "execution_count": null,
      "outputs": []
    },
    {
      "cell_type": "code",
      "source": [
        "plot_frequency_and_percentage('Lead_Source', crosstab_df, leadscore_df.sort_values(by='Lead_Source', ascending=False), True, 6)"
      ],
      "metadata": {
        "id": "VE2Q19OctYQE"
      },
      "execution_count": null,
      "outputs": []
    },
    {
      "cell_type": "code",
      "source": [
        "plot_frequency_and_percentage('Lead_Source_Detail', crosstab_df, leadscore_df.sort_values(by='Lead_Source_Detail', ascending=False), True, 6)"
      ],
      "metadata": {
        "id": "Vnhs0IC7vAg4"
      },
      "execution_count": null,
      "outputs": []
    },
    {
      "cell_type": "code",
      "source": [
        "plot_frequency_and_percentage('Gender', crosstab_df, leadscore_df.sort_values(by='Gender', ascending=False), True, 6)"
      ],
      "metadata": {
        "id": "DtfpDSBBvJYS"
      },
      "execution_count": null,
      "outputs": []
    },
    {
      "cell_type": "code",
      "source": [
        "plot_frequency_and_percentage('Study_Program', crosstab_df, leadscore_df.sort_values(by='Study_Program', ascending=False), True, 6)"
      ],
      "metadata": {
        "id": "wADq3OEzvUwb"
      },
      "execution_count": null,
      "outputs": []
    },
    {
      "cell_type": "code",
      "source": [
        "plot_frequency_and_percentage('Study_Model', crosstab_df, leadscore_df.sort_values(by='Study_Model', ascending=False), True, 6)"
      ],
      "metadata": {
        "id": "oAPTbSR_vqEV"
      },
      "execution_count": null,
      "outputs": []
    },
    {
      "cell_type": "code",
      "source": [],
      "metadata": {
        "id": "DxBL5gu3wUkD"
      },
      "execution_count": null,
      "outputs": []
    }
  ]
}